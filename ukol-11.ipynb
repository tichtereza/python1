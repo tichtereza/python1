{
 "cells": [
  {
   "cell_type": "code",
   "execution_count": null,
   "metadata": {},
   "outputs": [],
   "source": [
    "\"\"\"\n",
    "1. \n",
    "Pomocí nástroje regex101 vymysli regulární výraz, který označí platná data a neoznačí neplatná data:\n",
    "\n",
    "platná data:\n",
    "2.2.2022\n",
    "13. 8. 1999\n",
    "4/5/2001\n",
    "\n",
    "neplatná data:\n",
    "5.123.458.91\n",
    "21.4\n",
    "8./9\n",
    "\n",
    "\"\"\""
   ]
  },
  {
   "cell_type": "code",
   "execution_count": null,
   "metadata": {},
   "outputs": [],
   "source": [
    "\"\"\"\n",
    "řešení: \\d{1,2}[\\.\\/] ?\\d{1,2}[\\.\\/] ?\\d{4}$\n",
    "\"\"\""
   ]
  },
  {
   "cell_type": "code",
   "execution_count": null,
   "metadata": {},
   "outputs": [],
   "source": [
    "\"\"\"\n",
    "Zkopíruj si obsah souboru posta.txt do regex101 jako testovací řetězec. \n",
    "Vymysli regulární výraz, který označí všechny \"poslední řádky adresy\" v textu. \n",
    "Poslední řádka adresy zpravidla obsahuje PSČ a název obce, například 190 16 PRAHA 916 nebo 742 45 FULNEK. \n",
    "Celkem by jich mělo být 18.\n",
    "\n",
    "\"\"\""
   ]
  },
  {
   "cell_type": "code",
   "execution_count": 1,
   "metadata": {},
   "outputs": [],
   "source": [
    "\"\"\"\n",
    "řešení: \\d{3} +\\d{2} +(\\w+ ?)+\n",
    "# Jen mi to nebere českou abecedu - zasekne se to na např. 378 08 DVORY NAD LU (namísto 378 08 DVORY NAD LUŽNICÍ)\n",
    "\"\"\""
   ]
  }
 ],
 "metadata": {
  "kernelspec": {
   "display_name": "Python 3",
   "language": "python",
   "name": "python3"
  },
  "language_info": {
   "codemirror_mode": {
    "name": "ipython",
    "version": 3
   },
   "file_extension": ".py",
   "mimetype": "text/x-python",
   "name": "python",
   "nbconvert_exporter": "python",
   "pygments_lexer": "ipython3",
   "version": "3.11.7"
  }
 },
 "nbformat": 4,
 "nbformat_minor": 2
}
